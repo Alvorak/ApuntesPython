{
 "cells": [
  {
   "cell_type": "markdown",
   "id": "61b050a9",
   "metadata": {},
   "source": [
    "Written And Directed By Alvorak\n",
    "\n",
    "Para esta actividad hay que programar una pequeña aplicación en la que se pregunte al usuario el número de filas que debe tener una pirámide, acompañado de un botón para actualizar la pirámide. Debería de tener la forma que se muestra en la imagen."
   ]
  },
  {
   "cell_type": "markdown",
   "id": "e400ba71",
   "metadata": {},
   "source": [
    "Lo primero que haremos será incluir las librerias necesarias como tinker:"
   ]
  },
  {
   "cell_type": "code",
   "execution_count": 12,
   "id": "a47715a9",
   "metadata": {},
   "outputs": [],
   "source": [
    "import tkinter as tk\n",
    "from tkinter import messagebox"
   ]
  },
  {
   "cell_type": "markdown",
   "id": "49eb26cc",
   "metadata": {},
   "source": [
    "Ahora generarmos la función que nos genere la pirámide:\n",
    "\n",
    "La logica tras la pirámide no es mas que un blucle for del rango introduccido por el usuario. El resto de de lineas "
   ]
  },
  {
   "cell_type": "code",
   "execution_count": null,
   "id": "7602c09e",
   "metadata": {},
   "outputs": [],
   "source": [
    "def generar_piramide():\n",
    "    try:\n",
    "        filas = int(entry_filas.get()) # Obtener el número de filas del Entry\n",
    "        if filas <= 0:\n",
    "            raise ValueError # Asegurarse de que el número de filas sea positivo\n",
    "    except ValueError:\n",
    "        messagebox.showerror(\"Error\", \"Por favor, introduce un número entero positivo.\") # Mostrar un mensaje de error si la entrada no es válida\n",
    "        return \n",
    "    \n",
    "    piramide = \"\" # Inicializar la cadena de la pirámide\n",
    "    # Construir la pirámide\n",
    "    for i in range(1, filas + 1):\n",
    "        espacios = \" \" * (filas - i)\n",
    "        bloques = \"*\" * (2 * i - 1)\n",
    "        piramide += espacios + bloques + \"\\n\" # Añadir cada fila a la cadena\n",
    "    \n",
    "    label_resultado.config(text=piramide) # Actualizar el label con la pirámide generada\n",
    "\n",
    "# Crear ventana principal\n",
    "ventana = tk.Tk()\n",
    "ventana.title(\"Pirámide con Tkinter\")\n",
    "ventana.geometry(\"300x300\") # Tamaño de la ventana\n",
    "\n",
    "# Widgets => Etiqueta, Entry y Botón \n",
    "ventana.configure(bg=\"grey\") # Cambiar el color de fondo\n",
    "label_instruccion = tk.Label(ventana, text=\"Número de filas:\")\n",
    "label_instruccion.pack(pady=10) # Añadir la etiqueta a la ventana (pady para separación => espacio vertical)\n",
    "\n",
    "entry_filas = tk.Entry(ventana, justify=\"center\") # Crear un Entry para ingresar el número de filas (centrado)\n",
    "entry_filas.pack(pady=5)\n",
    "\n",
    "boton_generar = tk.Button(ventana, text=\"Actualizar pirámide\", command=generar_piramide) # Botón para generar la pirámide\n",
    "boton_generar.pack(pady=10) # Añadir el botón a la ventana (pady para separación)\n",
    "\n",
    "label_resultado = tk.Label(ventana, font=(\"Courier\", 12), justify=\"left\") # Label para mostrar el resultado de la pirámide\n",
    "label_resultado.pack(pady=10) # Añadir el label a la ventana (pady para separación)\n",
    "\n",
    "ventana.mainloop()"
   ]
  }
 ],
 "metadata": {
  "kernelspec": {
   "display_name": "Python 3",
   "language": "python",
   "name": "python3"
  },
  "language_info": {
   "codemirror_mode": {
    "name": "ipython",
    "version": 3
   },
   "file_extension": ".py",
   "mimetype": "text/x-python",
   "name": "python",
   "nbconvert_exporter": "python",
   "pygments_lexer": "ipython3",
   "version": "3.12.3"
  }
 },
 "nbformat": 4,
 "nbformat_minor": 5
}
