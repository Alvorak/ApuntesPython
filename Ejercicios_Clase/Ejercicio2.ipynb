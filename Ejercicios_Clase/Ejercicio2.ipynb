{
 "cells": [
  {
   "cell_type": "markdown",
   "id": "22b1546c",
   "metadata": {},
   "source": [
    "Written and Directed By Alvorak\n",
    "\n",
    "Ejercicio 2: \n",
    "Tenéis que crear una clase cifradora Cipher que tenga, como mínimo, un constructor y los métodos encode y decode:\n",
    "\n",
    "- El constructor recibe dos Strings. La primera es el abecedario original, sin cifrar. La segunda muestra dicho abecedario una vez cifrado. Cada letra tiene una letra correspondiente una vez cifrada.\n",
    "- La función encode transforma texto sin cifrar en texto cifrado. La función decode hace lo contrario.\n",
    "- Si un caracter no está en la lista de cifrado/descifrado, se deja como está."
   ]
  },
  {
   "cell_type": "markdown",
   "id": "4f0861f5",
   "metadata": {},
   "source": [
    "Clase para Cipher:\n",
    "\n",
    "- innit para inicializar los dos string con el diccionario\n",
    "- encode para codificar\n",
    "- decode para codificar"
   ]
  },
  {
   "cell_type": "code",
   "execution_count": 17,
   "id": "077495af",
   "metadata": {},
   "outputs": [],
   "source": [
    "class Cipher:\n",
    "    def __init__(self, string1: str, string2: str):\n",
    "        # Creo dos diccionaros para poder acceder a las dos listas de strings \n",
    "        # zip une las letras de string1 y string2 en pares (a, b) segun indique en una sola lista\n",
    "        self.encode_diccionario = {a: b for a, b in zip(string1, string2)} # Diccionario para codificar \n",
    "        self.decode_diccionario = {b: a for a, b in zip(string1, string2)} # Diccionario para decodificar \n",
    "\n",
    "    def encode(self, text: str) -> str:\n",
    "        # Reemplaza usando el mapa de codificación, o deja el char igual => esto es gracias al GET\n",
    "        return \"\".join(self.encode_diccionario.get(c, c) for c in text) #con el get buscamos y con el for recorremos el diccionario => ahorramos tiempo sin tener que hacer for + get en varias lineas\n",
    "\n",
    "    def decode(self, text: str) -> str:\n",
    "        # Reemplaza usando el mapa de decodificación, o deja el char igual => esto es gracias al GET\n",
    "        return \"\".join(self.decode_diccionario.get(c, c) for c in text) #con el get buscamos y con el for recorremos el diccionario => ahorramos tiempo sin tener que hacer for + get en varias lineas\n",
    "    \n",
    "    #get si no encuentra el resultado lo deja como esta => así funciona get es como usar el FIRSTorDefault en C# que devulve null si no encuentra lo que busca"
   ]
  },
  {
   "cell_type": "markdown",
   "id": "ed12494c",
   "metadata": {},
   "source": [
    "Ahora vamos a probarlo:\n",
    "Podemos imaginar este programa como si Sherlock Holmes enviara cartas secretas.\n",
    "Sherlock utiliza un código de sustitución: cada letra se reemplaza por otra según unas reglas acordadas previamente.\n",
    "Así, cuando escribe un mensaje, el resultado parece un galimatías que solo Watson puede entender."
   ]
  },
  {
   "cell_type": "code",
   "execution_count": 18,
   "id": "eaec25bf",
   "metadata": {},
   "outputs": [
    {
     "name": "stdout",
     "output_type": "stream",
     "text": [
      "CIFRADO:\n",
      "eta\n",
      "qxz\n",
      "eirfg\n",
      "hfue cgmof\n",
      "Le uibpe ñ mf ivbe\n",
      "DESCIFRADO:\n",
      "abc\n",
      "xyz\n",
      "aeiou\n",
      "hola mundo\n",
      "La letra ñ no esta\n"
     ]
    }
   ],
   "source": [
    "string1 = \"abcdefghijklmnopqrstuvwxyz\" #string con el texto sin codificar \n",
    "string2 = \"etaoinshrdlucmfwypvbgkjqxz\" #string con el texto codificado \n",
    "\n",
    "codificador = Cipher(string1, string2) #incializamos con la clase Cipher => convierte los strings en diccionaros para codificar y decodificar (el innit)\n",
    "\n",
    "print(\"CIFRADO:\")\n",
    "print(codificador.encode(\"abc\"))     \n",
    "print(codificador.encode(\"xyz\"))     \n",
    "print(codificador.encode(\"aeiou\"))   \n",
    "print(codificador.encode(\"hola mundo\")) #La h comparte posicion en ambas listas por eso se queda igual\n",
    "print(codificador.encode(\"La letra ñ no esta\")) #La ñ no esta la deja igual\n",
    "\n",
    "print(\"DESCIFRADO:\")\n",
    "print(codificador.decode(\"eta\"))      \n",
    "print(codificador.decode(\"qxz\"))      \n",
    "print(codificador.decode(\"eirfg\"))    \n",
    "print(codificador.decode(\"hfue cgmof\"))     \n",
    "print(codificador.decode(\"Le uibpe ñ mf ivbe\"))     "
   ]
  }
 ],
 "metadata": {
  "kernelspec": {
   "display_name": "Python 3",
   "language": "python",
   "name": "python3"
  },
  "language_info": {
   "codemirror_mode": {
    "name": "ipython",
    "version": 3
   },
   "file_extension": ".py",
   "mimetype": "text/x-python",
   "name": "python",
   "nbconvert_exporter": "python",
   "pygments_lexer": "ipython3",
   "version": "3.12.3"
  }
 },
 "nbformat": 4,
 "nbformat_minor": 5
}
